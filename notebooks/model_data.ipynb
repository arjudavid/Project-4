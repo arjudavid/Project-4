{
 "cells": [
  {
   "cell_type": "code",
   "execution_count": 1,
   "id": "e880d10b-abfb-42de-be34-607cb4618392",
   "metadata": {
    "executionInfo": {
     "elapsed": 28026,
     "status": "ok",
     "timestamp": 1743563796553,
     "user": {
      "displayName": "David Arjuna",
      "userId": "05115952565439805993"
     },
     "user_tz": 360
    },
    "id": "e880d10b-abfb-42de-be34-607cb4618392"
   },
   "outputs": [],
   "source": [
    "# Import required libraries\n",
    "import sqlite3\n",
    "import pandas as pd\n",
    "import numpy as np\n",
    "\n",
    "from sklearn.preprocessing import LabelEncoder\n",
    "from sklearn.model_selection import train_test_split\n",
    "from sklearn.metrics import classification_report, accuracy_score, mean_absolute_error, mean_squared_error, r2_score\n",
    "from sklearn.linear_model import LinearRegression\n",
    "from lightgbm import LGBMClassifier\n",
    "from xgboost import XGBClassifier\n",
    "from sklearn.ensemble import RandomForestClassifier\n",
    "from imblearn.over_sampling import SMOTE\n"
   ]
  },
  {
   "cell_type": "code",
   "execution_count": 2,
   "id": "81b3ae5d-8385-4c79-9f3a-c7edd62fa4eb",
   "metadata": {
    "colab": {
     "base_uri": "https://localhost:8080/"
    },
    "executionInfo": {
     "elapsed": 27748,
     "status": "ok",
     "timestamp": 1743563824275,
     "user": {
      "displayName": "David Arjuna",
      "userId": "05115952565439805993"
     },
     "user_tz": 360
    },
    "id": "81b3ae5d-8385-4c79-9f3a-c7edd62fa4eb",
    "outputId": "145ed555-153e-48d0-bb3d-f58b252d5b43"
   },
   "outputs": [],
   "source": [
    "# Create a connection to the SQL database\n",
    "conn = sqlite3.connect('../data/airbnb_cleaned.db')\n",
    "\n",
    "# Load data from the 'airbnb_cleaned' table\n",
    "query = \"SELECT * FROM airbnb_cleaned\"\n",
    "df = pd.read_sql(query, conn)\n",
    "\n",
    "# Close the connection\n",
    "conn.close()"
   ]
  },
  {
   "cell_type": "code",
   "execution_count": 3,
   "id": "cZSsOlEbpejv",
   "metadata": {
    "executionInfo": {
     "elapsed": 17,
     "status": "ok",
     "timestamp": 1743563824296,
     "user": {
      "displayName": "David Arjuna",
      "userId": "05115952565439805993"
     },
     "user_tz": 360
    },
    "id": "cZSsOlEbpejv"
   },
   "outputs": [],
   "source": [
    "# Create a copy of the DataFrame\n",
    "df_class = df.copy()"
   ]
  },
  {
   "cell_type": "code",
   "execution_count": 4,
   "id": "Ai9Vu8z-pe4d",
   "metadata": {
    "executionInfo": {
     "elapsed": 26,
     "status": "ok",
     "timestamp": 1743563824325,
     "user": {
      "displayName": "David Arjuna",
      "userId": "05115952565439805993"
     },
     "user_tz": 360
    },
    "id": "Ai9Vu8z-pe4d"
   },
   "outputs": [],
   "source": [
    "# Map numeric ratings to categorical labels\n",
    "def categorize_reviews(rating):\n",
    "    \"\"\"Assign category labels based on numeric review ratings.\"\"\"\n",
    "    if rating >= 4.5:\n",
    "        return \"A\"\n",
    "    elif rating >= 4.0:\n",
    "        return \"B\"\n",
    "    elif rating >= 3.5:\n",
    "        return \"C\"\n",
    "    elif rating >= 3.0:\n",
    "        return \"D\"\n",
    "    return \"F\"\n",
    "\n",
    "# Apply the categorization function to the DataFrame\n",
    "df_class['review_category'] = df_class['review rate number'].apply(categorize_reviews)"
   ]
  },
  {
   "cell_type": "code",
   "execution_count": 5,
   "id": "mCFAyx-j3wIm",
   "metadata": {
    "colab": {
     "base_uri": "https://localhost:8080/"
    },
    "executionInfo": {
     "elapsed": 48,
     "status": "ok",
     "timestamp": 1743563824391,
     "user": {
      "displayName": "David Arjuna",
      "userId": "05115952565439805993"
     },
     "user_tz": 360
    },
    "id": "mCFAyx-j3wIm",
    "outputId": "5980afa3-eb32-41ee-fec6-e19b0ac6dd6e"
   },
   "outputs": [
    {
     "name": "stdout",
     "output_type": "stream",
     "text": [
      "Remaining review categories:\n",
      "- A: 22921\n",
      "- B: 22879\n",
      "- D: 22842\n"
     ]
    }
   ],
   "source": [
    "# Filter out rows where 'review_category' is 'F'\n",
    "df_filtered = df_class.loc[df_class['review_category'] != 'F'].copy()\n",
    "\n",
    "# Display the count of remaining categories with a cleaner format\n",
    "remaining_counts = df_filtered['review_category'].value_counts()\n",
    "\n",
    "print(\"Remaining review categories:\")\n",
    "for category, count in remaining_counts.items():\n",
    "    print(f\"- {category}: {count}\")"
   ]
  },
  {
   "cell_type": "code",
   "execution_count": 6,
   "id": "jQBuCuaj6Fgc",
   "metadata": {
    "colab": {
     "base_uri": "https://localhost:8080/"
    },
    "executionInfo": {
     "elapsed": 62,
     "status": "ok",
     "timestamp": 1743563824455,
     "user": {
      "displayName": "David Arjuna",
      "userId": "05115952565439805993"
     },
     "user_tz": 360
    },
    "id": "jQBuCuaj6Fgc",
    "outputId": "8f5e2e3a-2266-4a97-e77c-fbb55e9b1d8c"
   },
   "outputs": [
    {
     "name": "stdout",
     "output_type": "stream",
     "text": [
      "Price Statistics (after removing outliers):\n",
      "count    65277.000000\n",
      "mean       596.554606\n",
      "std        314.228309\n",
      "min         50.000000\n",
      "25%        326.000000\n",
      "50%        595.000000\n",
      "75%        870.000000\n",
      "max       1143.000000\n"
     ]
    }
   ],
   "source": [
    "# Calculate the 95th percentile for price and filter out high-price outliers\n",
    "high_price_threshold = np.percentile(df_filtered['price'], 95)\n",
    "df_filtered = df_filtered.loc[df_filtered['price'] <= high_price_threshold].copy()\n",
    "\n",
    "# Display a summary of price statistics with improved formatting\n",
    "price_stats = df_filtered['price'].describe()\n",
    "print(\"Price Statistics (after removing outliers):\")\n",
    "print(price_stats.to_string())"
   ]
  },
  {
   "cell_type": "code",
   "execution_count": 7,
   "id": "2LKF8WXY6OCf",
   "metadata": {
    "executionInfo": {
     "elapsed": 2,
     "status": "ok",
     "timestamp": 1743563824459,
     "user": {
      "displayName": "David Arjuna",
      "userId": "05115952565439805993"
     },
     "user_tz": 360
    },
    "id": "2LKF8WXY6OCf"
   },
   "outputs": [
    {
     "name": "stdout",
     "output_type": "stream",
     "text": [
      "Features (X) shape: (65277, 16)\n",
      "Target variable (y) shape: (65277,)\n"
     ]
    }
   ],
   "source": [
    "# Define features (X) and target variable (y)\n",
    "X = df_filtered.loc[:, ~df_filtered.columns.isin(['review rate number', 'review_category'])]\n",
    "y = df_filtered['review_category']\n",
    "\n",
    "# Display shapes of X and y for verification\n",
    "print(\"Features (X) shape:\", X.shape)\n",
    "print(\"Target variable (y) shape:\", y.shape)"
   ]
  },
  {
   "cell_type": "code",
   "execution_count": 8,
   "id": "v6yWgiVHpfeV",
   "metadata": {
    "executionInfo": {
     "elapsed": 81,
     "status": "ok",
     "timestamp": 1743563824543,
     "user": {
      "displayName": "David Arjuna",
      "userId": "05115952565439805993"
     },
     "user_tz": 360
    },
    "id": "v6yWgiVHpfeV"
   },
   "outputs": [
    {
     "name": "stdout",
     "output_type": "stream",
     "text": [
      "Shape of X before encoding: (65277, 16)\n",
      "Shape of X after encoding: (65277, 240)\n"
     ]
    }
   ],
   "source": [
    "# Encode categorical features using One-Hot Encoding\n",
    "X_encoded = pd.get_dummies(X, drop_first=True)\n",
    "\n",
    "# Display the shape of the DataFrame after encoding\n",
    "print(\"Shape of X before encoding:\", X.shape)\n",
    "print(\"Shape of X after encoding:\", X_encoded.shape)\n",
    "\n",
    "# Replace the original DataFrame with the encoded one\n",
    "X = X_encoded"
   ]
  },
  {
   "cell_type": "code",
   "execution_count": 9,
   "id": "c5cc92aa",
   "metadata": {},
   "outputs": [],
   "source": [
    "# Encode target variable using LabelEncoder\n",
    "label_encoder = LabelEncoder()\n",
    "y_numeric = label_encoder.fit_transform(y)\n",
    "\n",
    "# Split features and target variable into training and test sets\n",
    "X_train, X_test = train_test_split(\n",
    "    X, test_size=0.2, random_state=42, stratify=y_numeric)\n",
    "\n",
    "y_train, y_test = train_test_split(\n",
    "    y_numeric, test_size=0.2, random_state=42, stratify=y_numeric)"
   ]
  },
  {
   "cell_type": "code",
   "execution_count": 10,
   "id": "jQpzDHMyZPwW",
   "metadata": {
    "colab": {
     "base_uri": "https://localhost:8080/"
    },
    "executionInfo": {
     "elapsed": 1578,
     "status": "ok",
     "timestamp": 1743563826171,
     "user": {
      "displayName": "David Arjuna",
      "userId": "05115952565439805993"
     },
     "user_tz": 360
    },
    "id": "jQpzDHMyZPwW",
    "outputId": "56076fd5-6d7e-40bc-f126-32b20482cfdb"
   },
   "outputs": [
    {
     "name": "stdout",
     "output_type": "stream",
     "text": [
      "\n",
      "Linear Regression Results:\n",
      "Mean Absolute Error (MAE): 0.6801\n",
      "Mean Squared Error (MSE): 0.6696\n",
      "R-Squared Score: -0.0025\n",
      "\n",
      "Classification Report:\n",
      "              precision    recall  f1-score   support\n",
      "\n",
      "           A       0.67      0.00      0.00      4380\n",
      "           B       0.33      1.00      0.50      4335\n",
      "           D       0.53      0.00      0.00      4341\n",
      "\n",
      "    accuracy                           0.33     13056\n",
      "   macro avg       0.51      0.33      0.17     13056\n",
      "weighted avg       0.51      0.33      0.17     13056\n",
      "\n"
     ]
    }
   ],
   "source": [
    "# Initialize and train the Linear Regression model\n",
    "lr = LinearRegression()\n",
    "lr.fit(X_train, y_train)\n",
    "\n",
    "# Make predictions on the test set\n",
    "y_pred_lr = lr.predict(X_test)\n",
    "\n",
    "# Round predictions and map back to original categories\n",
    "y_pred_lr_rounded = np.round(y_pred_lr).astype(int)\n",
    "y_pred_lr_categorized = label_encoder.inverse_transform(y_pred_lr_rounded)\n",
    "\n",
    "# Evaluate and display model performance\n",
    "print(\"\\nLinear Regression Results:\")\n",
    "print(f\"Mean Absolute Error (MAE): {mean_absolute_error(y_test, y_pred_lr):.4f}\")\n",
    "print(f\"Mean Squared Error (MSE): {mean_squared_error(y_test, y_pred_lr):.4f}\")\n",
    "print(f\"R-Squared Score: {r2_score(y_test, y_pred_lr):.4f}\")\n",
    "\n",
    "# Display classification report\n",
    "print(\"\\nClassification Report:\")\n",
    "print(classification_report(label_encoder.inverse_transform(y_test), y_pred_lr_categorized))"
   ]
  },
  {
   "cell_type": "code",
   "execution_count": 11,
   "id": "bcOFhKwhM80N",
   "metadata": {
    "colab": {
     "base_uri": "https://localhost:8080/"
    },
    "executionInfo": {
     "elapsed": 4698,
     "status": "ok",
     "timestamp": 1743563830870,
     "user": {
      "displayName": "David Arjuna",
      "userId": "05115952565439805993"
     },
     "user_tz": 360
    },
    "id": "bcOFhKwhM80N",
    "outputId": "a867a2a5-7f74-46c2-f4d3-889b159ad265"
   },
   "outputs": [
    {
     "name": "stdout",
     "output_type": "stream",
     "text": [
      "[LightGBM] [Warning] Found whitespace in feature_names, replace with underlines\n",
      "[LightGBM] [Info] Auto-choosing col-wise multi-threading, the overhead of testing was 0.007561 seconds.\n",
      "You can set `force_col_wise=true` to remove the overhead.\n",
      "[LightGBM] [Info] Total Bins 2237\n",
      "[LightGBM] [Info] Number of data points in the train set: 52221, number of used features: 168\n",
      "[LightGBM] [Info] Start training from score -1.092142\n",
      "[LightGBM] [Info] Start training from score -1.102469\n",
      "[LightGBM] [Info] Start training from score -1.101258\n",
      "[LightGBM] [Warning] No further splits with positive gain, best gain: -inf\n",
      "[LightGBM] [Warning] No further splits with positive gain, best gain: -inf\n",
      "[LightGBM] [Warning] No further splits with positive gain, best gain: -inf\n",
      "LightGBM Accuracy: 0.4630\n",
      "\n",
      "LightGBM Classification Report:\n",
      "              precision    recall  f1-score   support\n",
      "\n",
      "           0       0.46      0.49      0.47      4380\n",
      "           1       0.46      0.46      0.46      4335\n",
      "           2       0.47      0.45      0.46      4341\n",
      "\n",
      "    accuracy                           0.46     13056\n",
      "   macro avg       0.46      0.46      0.46     13056\n",
      "weighted avg       0.46      0.46      0.46     13056\n",
      "\n"
     ]
    }
   ],
   "source": [
    "# Initialize and train the LightGBM model\n",
    "lgbm = LGBMClassifier(\n",
    "    n_estimators=200, learning_rate=0.1, max_depth=10, random_state=42\n",
    ")\n",
    "lgbm.fit(X_train, y_train)\n",
    "\n",
    "# Make predictions on the test set\n",
    "y_pred_lgbm = lgbm.predict(X_test)\n",
    "\n",
    "# Evaluate and display model performance\n",
    "accuracy = accuracy_score(y_test, y_pred_lgbm)\n",
    "print(f\"LightGBM Accuracy: {accuracy:.4f}\")\n",
    "\n",
    "print(\"\\nLightGBM Classification Report:\")\n",
    "print(classification_report(y_test, y_pred_lgbm))"
   ]
  },
  {
   "cell_type": "code",
   "execution_count": 12,
   "id": "9_FRWcZCM8m4",
   "metadata": {
    "colab": {
     "base_uri": "https://localhost:8080/"
    },
    "executionInfo": {
     "elapsed": 22072,
     "status": "ok",
     "timestamp": 1743563852944,
     "user": {
      "displayName": "David Arjuna",
      "userId": "05115952565439805993"
     },
     "user_tz": 360
    },
    "id": "9_FRWcZCM8m4",
    "outputId": "833280de-aaa8-4e9e-d20b-6bdedc29b2a6"
   },
   "outputs": [
    {
     "name": "stdout",
     "output_type": "stream",
     "text": [
      "XGBoost Accuracy: 0.5335\n",
      "\n",
      "XGBoost Classification Report:\n",
      "              precision    recall  f1-score   support\n",
      "\n",
      "           0       0.53      0.54      0.53      4380\n",
      "           1       0.53      0.52      0.53      4335\n",
      "           2       0.53      0.54      0.54      4341\n",
      "\n",
      "    accuracy                           0.53     13056\n",
      "   macro avg       0.53      0.53      0.53     13056\n",
      "weighted avg       0.53      0.53      0.53     13056\n",
      "\n"
     ]
    }
   ],
   "source": [
    "# Initialize and train the XGBoost model\n",
    "label_encoder = LabelEncoder()\n",
    "y_train_encoded = label_encoder.fit_transform(y_train)\n",
    "y_test_encoded = label_encoder.transform(y_test)\n",
    "\n",
    "xgb = XGBClassifier(\n",
    "    n_estimators=200, learning_rate=0.1, max_depth=10, random_state=42\n",
    ")\n",
    "xgb.fit(X_train, y_train_encoded)\n",
    "\n",
    "# Make predictions and convert back to original labels\n",
    "y_pred_xgb = xgb.predict(X_test)\n",
    "y_pred_xgb_labels = label_encoder.inverse_transform(y_pred_xgb)\n",
    "\n",
    "# Evaluate and display model performance\n",
    "accuracy = accuracy_score(y_test, y_pred_xgb_labels)\n",
    "print(f\"XGBoost Accuracy: {accuracy:.4f}\")\n",
    "\n",
    "print(\"\\nXGBoost Classification Report:\")\n",
    "print(classification_report(y_test, y_pred_xgb_labels))"
   ]
  },
  {
   "cell_type": "code",
   "execution_count": 13,
   "id": "kFonygsZGk2E",
   "metadata": {
    "colab": {
     "base_uri": "https://localhost:8080/"
    },
    "executionInfo": {
     "elapsed": 105325,
     "status": "ok",
     "timestamp": 1743563958274,
     "user": {
      "displayName": "David Arjuna",
      "userId": "05115952565439805993"
     },
     "user_tz": 360
    },
    "id": "kFonygsZGk2E",
    "outputId": "f8ef8a6c-1084-437a-c9ea-a22259f68c64"
   },
   "outputs": [
    {
     "name": "stdout",
     "output_type": "stream",
     "text": [
      "\n",
      "Random Forest Accuracy: 0.6161\n",
      "\n",
      "Random Forest Classification Report:\n",
      "              precision    recall  f1-score   support\n",
      "\n",
      "           0       0.61      0.63      0.62      4380\n",
      "           1       0.62      0.60      0.61      4335\n",
      "           2       0.62      0.62      0.62      4341\n",
      "\n",
      "    accuracy                           0.62     13056\n",
      "   macro avg       0.62      0.62      0.62     13056\n",
      "weighted avg       0.62      0.62      0.62     13056\n",
      "\n"
     ]
    }
   ],
   "source": [
    "# Initialize and train the Random Forest model\n",
    "rf = RandomForestClassifier(\n",
    "    n_estimators=300, random_state=42\n",
    ")\n",
    "rf.fit(X_train, y_train)\n",
    "\n",
    "# Make predictions on the test set\n",
    "y_pred_rf = rf.predict(X_test)\n",
    "\n",
    "# Evaluate and display model performance\n",
    "accuracy = accuracy_score(y_test, y_pred_rf)\n",
    "print(f\"\\nRandom Forest Accuracy: {accuracy:.4f}\")\n",
    "\n",
    "print(\"\\nRandom Forest Classification Report:\")\n",
    "print(classification_report(y_test, y_pred_rf))"
   ]
  },
  {
   "cell_type": "code",
   "execution_count": 14,
   "id": "Djys-xaBQXTu",
   "metadata": {
    "colab": {
     "base_uri": "https://localhost:8080/"
    },
    "executionInfo": {
     "elapsed": 25077,
     "status": "ok",
     "timestamp": 1743563983244,
     "user": {
      "displayName": "David Arjuna",
      "userId": "05115952565439805993"
     },
     "user_tz": 360
    },
    "id": "Djys-xaBQXTu",
    "outputId": "6377b114-4bff-4134-be43-ba5617cafa40"
   },
   "outputs": [
    {
     "name": "stdout",
     "output_type": "stream",
     "text": [
      "Optimized Random Forest Accuracy: 0.4611\n",
      "\n",
      "Optimized Random Forest Classification Report:\n",
      "              precision    recall  f1-score   support\n",
      "\n",
      "           0       0.43      0.57      0.49      4380\n",
      "           1       0.48      0.41      0.44      4335\n",
      "           2       0.49      0.41      0.44      4341\n",
      "\n",
      "    accuracy                           0.46     13056\n",
      "   macro avg       0.47      0.46      0.46     13056\n",
      "weighted avg       0.47      0.46      0.46     13056\n",
      "\n"
     ]
    }
   ],
   "source": [
    "# Initialize and train the Optimized Random Forest model\n",
    "rf_optimized = RandomForestClassifier(\n",
    "    n_estimators=300, max_depth=15, min_samples_split=5, random_state=42\n",
    ")\n",
    "rf_optimized.fit(X_train, y_train)\n",
    "\n",
    "# Make predictions on the test set\n",
    "y_pred_rf_opt = rf_optimized.predict(X_test)\n",
    "\n",
    "# Evaluate and display model performance\n",
    "accuracy = accuracy_score(y_test, y_pred_rf_opt)\n",
    "print(f\"Optimized Random Forest Accuracy: {accuracy:.4f}\")\n",
    "\n",
    "print(\"\\nOptimized Random Forest Classification Report:\")\n",
    "print(classification_report(y_test, y_pred_rf_opt))"
   ]
  },
  {
   "cell_type": "code",
   "execution_count": 15,
   "id": "YnHUPKm-1hjI",
   "metadata": {
    "executionInfo": {
     "elapsed": 179,
     "status": "ok",
     "timestamp": 1743563983416,
     "user": {
      "displayName": "David Arjuna",
      "userId": "05115952565439805993"
     },
     "user_tz": 360
    },
    "id": "YnHUPKm-1hjI"
   },
   "outputs": [
    {
     "name": "stdout",
     "output_type": "stream",
     "text": [
      "Top 10 Features by Importance:\n",
      "                          Feature  Importance\n",
      "1                            long    0.094528\n",
      "0                             lat    0.093926\n",
      "3                           price    0.091898\n",
      "4                     service fee    0.087338\n",
      "7               reviews per month    0.082806\n",
      "9                availability 365    0.079099\n",
      "6               number of reviews    0.075178\n",
      "2               Construction year    0.074044\n",
      "5                  minimum nights    0.055332\n",
      "8  calculated host listings count    0.039569\n"
     ]
    }
   ],
   "source": [
    "# Perform Feature Importance Analysis\n",
    "feature_importance_df = pd.DataFrame({\n",
    "    'Feature': X.columns,\n",
    "    'Importance': rf.feature_importances_\n",
    "}).sort_values(by='Importance', ascending=False)\n",
    "\n",
    "# Display the top 10 most important features\n",
    "print(\"Top 10 Features by Importance:\")\n",
    "print(feature_importance_df.head(10))"
   ]
  },
  {
   "cell_type": "code",
   "execution_count": 16,
   "id": "ke7B8XBn8gCR",
   "metadata": {
    "executionInfo": {
     "elapsed": 7,
     "status": "ok",
     "timestamp": 1743563983431,
     "user": {
      "displayName": "David Arjuna",
      "userId": "05115952565439805993"
     },
     "user_tz": 360
    },
    "id": "ke7B8XBn8gCR"
   },
   "outputs": [],
   "source": [
    "# Select most important features based on threshold\n",
    "important_features = feature_importance_df.loc[\n",
    "    feature_importance_df['Importance'] >= 0.02, 'Feature'\n",
    "].tolist()\n",
    "\n",
    "# Create a new DataFrame with the selected features\n",
    "X_optimized = X[important_features]"
   ]
  },
  {
   "cell_type": "code",
   "execution_count": 17,
   "id": "aUV0Tmfv8gWV",
   "metadata": {
    "colab": {
     "base_uri": "https://localhost:8080/"
    },
    "executionInfo": {
     "elapsed": 78512,
     "status": "ok",
     "timestamp": 1743564061949,
     "user": {
      "displayName": "David Arjuna",
      "userId": "05115952565439805993"
     },
     "user_tz": 360
    },
    "id": "aUV0Tmfv8gWV",
    "outputId": "9b22088d-86ea-46d4-83b3-17deedd7c502"
   },
   "outputs": [
    {
     "name": "stdout",
     "output_type": "stream",
     "text": [
      "\n",
      "New Optimized Feature Set Accuracy: 0.6500\n",
      "\n",
      "Optimized Feature Set Classification Report:\n",
      "              precision    recall  f1-score   support\n",
      "\n",
      "           A       0.64      0.66      0.65      4380\n",
      "           B       0.65      0.64      0.64      4335\n",
      "           D       0.66      0.65      0.66      4341\n",
      "\n",
      "    accuracy                           0.65     13056\n",
      "   macro avg       0.65      0.65      0.65     13056\n",
      "weighted avg       0.65      0.65      0.65     13056\n",
      "\n"
     ]
    }
   ],
   "source": [
    "# Retrain the model using the selected features\n",
    "X_train_opt, X_test_opt, y_train_opt, y_test_opt = train_test_split(\n",
    "    X_optimized, y, test_size=0.2, random_state=42, stratify=y\n",
    ")\n",
    "\n",
    "rf.fit(X_train_opt, y_train_opt)\n",
    "\n",
    "# Make predictions on the test set with the optimized feature set\n",
    "y_pred_opt = rf.predict(X_test_opt)\n",
    "\n",
    "# Evaluate and display model performance\n",
    "accuracy = accuracy_score(y_test_opt, y_pred_opt)\n",
    "print(f\"\\nNew Optimized Feature Set Accuracy: {accuracy:.4f}\")\n",
    "\n",
    "print(\"\\nOptimized Feature Set Classification Report:\")\n",
    "print(classification_report(y_test_opt, y_pred_opt))"
   ]
  },
  {
   "cell_type": "code",
   "execution_count": 18,
   "id": "aapUWSkU8gk1",
   "metadata": {
    "executionInfo": {
     "elapsed": 13034,
     "status": "ok",
     "timestamp": 1743564074980,
     "user": {
      "displayName": "David Arjuna",
      "userId": "05115952565439805993"
     },
     "user_tz": 360
    },
    "id": "aapUWSkU8gk1"
   },
   "outputs": [],
   "source": [
    "# Apply SMOTE to handle class imbalance in the training data\n",
    "smote = SMOTE(random_state=42)\n",
    "X_resampled, y_resampled = smote.fit_resample(X_train, y_train)"
   ]
  },
  {
   "cell_type": "code",
   "execution_count": 19,
   "id": "Z38hPf4X8gyF",
   "metadata": {
    "colab": {
     "base_uri": "https://localhost:8080/"
    },
    "executionInfo": {
     "elapsed": 31925,
     "status": "ok",
     "timestamp": 1743564106897,
     "user": {
      "displayName": "David Arjuna",
      "userId": "05115952565439805993"
     },
     "user_tz": 360
    },
    "id": "Z38hPf4X8gyF",
    "outputId": "58a23b8b-7796-4943-d0fc-baec57ed4b9b"
   },
   "outputs": [
    {
     "name": "stdout",
     "output_type": "stream",
     "text": [
      "\n",
      "Balanced Data Accuracy: 0.6096\n",
      "\n",
      "Balanced Data Classification Report:\n",
      "              precision    recall  f1-score   support\n",
      "\n",
      "           0       0.60      0.63      0.62      4380\n",
      "           1       0.61      0.59      0.60      4335\n",
      "           2       0.62      0.60      0.61      4341\n",
      "\n",
      "    accuracy                           0.61     13056\n",
      "   macro avg       0.61      0.61      0.61     13056\n",
      "weighted avg       0.61      0.61      0.61     13056\n",
      "\n"
     ]
    }
   ],
   "source": [
    "# Initialize and train the Random Forest model on balanced data\n",
    "rf_smote = RandomForestClassifier(\n",
    "    n_estimators=100, random_state=42\n",
    ")\n",
    "rf_smote.fit(X_resampled, y_resampled)\n",
    "\n",
    "# Make predictions on the test set\n",
    "y_pred_smote = rf_smote.predict(X_test)\n",
    "\n",
    "# Evaluate and display model performance\n",
    "accuracy = accuracy_score(y_test, y_pred_smote)\n",
    "print(f\"\\nBalanced Data Accuracy: {accuracy:.4f}\")\n",
    "\n",
    "print(\"\\nBalanced Data Classification Report:\")\n",
    "print(classification_report(y_test, y_pred_smote))"
   ]
  },
  {
   "cell_type": "code",
   "execution_count": 20,
   "id": "57c1049f",
   "metadata": {},
   "outputs": [],
   "source": [
    "# List of model names and their corresponding calculated accuracy scores\n",
    "model_names = [\n",
    "    'Linear Regression', \n",
    "    'LightGBM', \n",
    "    'XGBoost', \n",
    "    'Random Forest', \n",
    "    'Optimized Random Forest', \n",
    "    'Balanced Random Forest', \n",
    "    'Optimized Feature Set'\n",
    "]\n",
    "\n",
    "# Corresponding pre-calculated accuracy scores\n",
    "accuracies = [\n",
    "    accuracy_score(label_encoder.inverse_transform(y_test), y_pred_lr_categorized),\n",
    "    accuracy_score(y_test, y_pred_lgbm),\n",
    "    accuracy_score(y_test, y_pred_xgb_labels),\n",
    "    accuracy_score(y_test, y_pred_rf),\n",
    "    accuracy_score(y_test, y_pred_rf_opt),\n",
    "    accuracy_score(y_test, y_pred_smote),\n",
    "    accuracy_score(y_test_opt, y_pred_opt)\n",
    "]"
   ]
  },
  {
   "cell_type": "code",
   "execution_count": 21,
   "id": "2e7737f2",
   "metadata": {},
   "outputs": [
    {
     "name": "stdout",
     "output_type": "stream",
     "text": [
      "\n",
      "Model Performance Comparison (sorted by accuracy):\n",
      "                  Model  Accuracy\n",
      "  Optimized Feature Set  0.650046\n",
      "          Random Forest  0.616115\n",
      " Balanced Random Forest  0.609605\n",
      "                XGBoost  0.533471\n",
      "               LightGBM  0.463006\n",
      "Optimized Random Forest  0.461091\n",
      "      Linear Regression  0.000000\n"
     ]
    }
   ],
   "source": [
    "# Combine names and accuracies into a DataFrame\n",
    "comparison_df = pd.DataFrame({'Model': model_names, 'Accuracy': accuracies})\n",
    "\n",
    "# Sort models by accuracy in descending order\n",
    "comparison_df = comparison_df.sort_values(by='Accuracy', ascending=False)\n",
    "\n",
    "# Display the sorted comparison table\n",
    "print(\"\\nModel Performance Comparison (sorted by accuracy):\")\n",
    "print(comparison_df.to_string(index=False))"
   ]
  }
 ],
 "metadata": {
  "colab": {
   "provenance": []
  },
  "kernelspec": {
   "display_name": "dev",
   "language": "python",
   "name": "python3"
  },
  "language_info": {
   "codemirror_mode": {
    "name": "ipython",
    "version": 3
   },
   "file_extension": ".py",
   "mimetype": "text/x-python",
   "name": "python",
   "nbconvert_exporter": "python",
   "pygments_lexer": "ipython3",
   "version": "3.10.15"
  }
 },
 "nbformat": 4,
 "nbformat_minor": 5
}
